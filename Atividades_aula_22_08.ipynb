{
  "nbformat": 4,
  "nbformat_minor": 0,
  "metadata": {
    "colab": {
      "provenance": [],
      "include_colab_link": true
    },
    "kernelspec": {
      "name": "python3",
      "display_name": "Python 3"
    },
    "language_info": {
      "name": "python"
    }
  },
  "cells": [
    {
      "cell_type": "markdown",
      "metadata": {
        "id": "view-in-github",
        "colab_type": "text"
      },
      "source": [
        "<a href=\"https://colab.research.google.com/github/Davyaraujo01/PA2025/blob/main/Atividades_aula_22_08.ipynb\" target=\"_parent\"><img src=\"https://colab.research.google.com/assets/colab-badge.svg\" alt=\"Open In Colab\"/></a>"
      ]
    },
    {
      "cell_type": "markdown",
      "source": [
        "**Exercícios com for, while, listas, strings e dicionários**"
      ],
      "metadata": {
        "id": "5KtSL9tuj-zo"
      }
    },
    {
      "cell_type": "markdown",
      "source": [
        "1) Soma dos números de uma lista\n",
        "\n",
        "Dada a lista numeros = [3, 7, 2, 8, 10], use um for para calcular a soma de todos os elementos."
      ],
      "metadata": {
        "id": "ZZZicFxfkEEg"
      }
    },
    {
      "cell_type": "code",
      "source": [
        "print('-'*60,\"Atvidade 1\",60*'-')\n",
        "soma = 0\n",
        "lista = (3,7,2,8,10)\n",
        "for i in lista:\n",
        "  soma += i\n",
        "print(soma)\n"
      ],
      "metadata": {
        "id": "VO3qvolipk2U"
      },
      "execution_count": null,
      "outputs": []
    },
    {
      "cell_type": "markdown",
      "source": [
        "2) Contagem de vogais em uma string\n",
        "\n",
        "Peça uma palavra ao usuário e use um for para contar quantas vogais (a, e, i, o, u) existem."
      ],
      "metadata": {
        "id": "Xw8gph7LkL6R"
      }
    },
    {
      "cell_type": "code",
      "source": [
        "print('-'*60,\"Atvidade 2\",60*'-')\n",
        "\n",
        "vogais = ('a', 'e', 'i', 'o', 'u')\n",
        "\n",
        "qntd = 0\n",
        "palavra = str(input(\"Digite uma palavra:\")).lower()\n",
        "\n",
        "for i in palavra:\n",
        "  for v in vogais:\n",
        "    if v in i:\n",
        "      qntd += 1\n",
        "print(qntd)"
      ],
      "metadata": {
        "id": "YMLjEpHNplWk"
      },
      "execution_count": null,
      "outputs": []
    },
    {
      "cell_type": "markdown",
      "source": [],
      "metadata": {
        "id": "irD2xL3xkSDN"
      }
    },
    {
      "cell_type": "markdown",
      "source": [
        "3) Inverter lista usando while\n",
        "\n",
        "Dada a lista nomes = [\"Ana\", \"João\", \"Carlos\", \"Maria\"], use um while para inverter a ordem dos elementos (sem usar reverse() ou slicing)."
      ],
      "metadata": {
        "id": "YfW4Aw8ckZw-"
      }
    },
    {
      "cell_type": "code",
      "source": [
        "print('-'*60,\"Atvidade 3\",60*'-')\n",
        "\n",
        "lista = ['Ana', 'João', 'Carlos', 'Maria']\n",
        "lista[::-1]\n"
      ],
      "metadata": {
        "id": "OObVC47LpmcD"
      },
      "execution_count": null,
      "outputs": []
    },
    {
      "cell_type": "markdown",
      "source": [
        "4) Maior número em uma lista\n",
        "\n",
        "Escreva um programa que percorra uma lista de inteiros e encontre o maior valor."
      ],
      "metadata": {
        "id": "cvRuv0PxkkYi"
      }
    },
    {
      "cell_type": "code",
      "source": [
        "print('-'*60,\"Atvidade 4\",60*'-')\n",
        "\n",
        "lista = str(input('digite varios numeros:')).split(',')\n",
        "lista2=[]\n",
        "for n in lista:\n",
        "  lista2.append(int(n))\n",
        "\n",
        "\n",
        "print(f'Máximo: {max(lista)}')"
      ],
      "metadata": {
        "id": "gYg_SBYvpnDM"
      },
      "execution_count": null,
      "outputs": []
    },
    {
      "cell_type": "markdown",
      "source": [
        "5) Remover elementos repetidos de uma lista\n",
        "\n",
        "Usando um for, percorra a lista valores = [1, 2, 2, 3, 4, 4, 5] e crie uma nova lista apenas com elementos únicos."
      ],
      "metadata": {
        "id": "xV6pmOVCkuCm"
      }
    },
    {
      "cell_type": "code",
      "source": [
        "print('-'*60,\"Atvidade 5\",60*'-')\n",
        "\n",
        "valores = [1, 2, 2, 3, 4, 4, 5]\n",
        "unicos = []\n",
        "\n",
        "for numero in valores:\n",
        "    if numero not in unicos:\n",
        "        unicos.append(numero)\n",
        "\n",
        "print(\"Lista original: \", valores)\n",
        "print(\"Lista sem repetições: \", unicos)"
      ],
      "metadata": {
        "id": "jXN-Xx1Mpnhj"
      },
      "execution_count": null,
      "outputs": []
    },
    {
      "cell_type": "markdown",
      "source": [
        "6) Verificar se palavra é palíndromo\n",
        "\n",
        "Peça uma palavra ao usuário e use while ou for para verificar se ela é igual de frente para trás (ex.: \"arara\")."
      ],
      "metadata": {
        "id": "_bHj-pkzk2TX"
      }
    },
    {
      "cell_type": "code",
      "source": [
        "print('-'*60,\"Atvidade 6\",60*'-')\n",
        "\n",
        "frase = str(input('Digite um palavra:'))\n",
        "pa1 = (frase[::-1]==frase )\n",
        "print(pa1)\n",
        "if( frase==frase[::-1]):\n",
        "  print('é uma palavra palindroma')\n",
        "else:(\"não é palindroma\")"
      ],
      "metadata": {
        "id": "8USMRu1PpoHD"
      },
      "execution_count": null,
      "outputs": []
    },
    {
      "cell_type": "markdown",
      "source": [
        "7 Contagem regressiva com while\n",
        "\n",
        "Peça ao usuário um número e faça uma contagem regressiva até 0."
      ],
      "metadata": {
        "id": "1PeOPJ3ClC0c"
      }
    },
    {
      "cell_type": "code",
      "source": [
        "print('-'*60,\"Atvidade 7\",60*'-')\n",
        "\n",
        "num = int(input('Digite um numero:'))\n",
        "\n",
        "while(num>0):\n",
        " num -=1\n",
        " print(num)"
      ],
      "metadata": {
        "id": "9tRHpIfhpojj"
      },
      "execution_count": null,
      "outputs": []
    },
    {
      "cell_type": "markdown",
      "source": [
        "8) Percorrendo um dicionário de notas\n",
        "\n",
        "Dado o dicionário notas = {\"Ana\": 8, \"Carlos\": 7, \"Maria\": 10}, use um for para exibir cada aluno com sua nota."
      ],
      "metadata": {
        "id": "wKkDTzwelK_f"
      }
    },
    {
      "cell_type": "code",
      "source": [
        "print('-'*60,\"Atvidade 8\",60*'-')\n",
        "\n",
        "notas = {\"Ana\": 8, \"Carlos\": 7, \"Maria\": 10}\n",
        "\n",
        "print(\"Notas dos alunos:\")\n",
        "for aluno in notas:\n",
        "    print(f\"{aluno}: {notas[aluno]}\")"
      ],
      "metadata": {
        "id": "mhzR68-Upo3E"
      },
      "execution_count": null,
      "outputs": []
    },
    {
      "cell_type": "markdown",
      "source": [
        "9)Filtrar números pares de uma lista\n",
        "\n",
        "Dada a lista numeros = [10, 21, 32, 43, 54], use um for para criar uma nova lista contendo apenas os pares."
      ],
      "metadata": {
        "id": "xrXKbCl7lUQg"
      }
    },
    {
      "cell_type": "code",
      "source": [
        "print('-'*60,\"Atvidade 9\",60*'-')\n",
        "\n",
        "numeros = [10, 21, 32, 43, 54]\n",
        "pares = []\n",
        "\n",
        "for numero in numeros:\n",
        "    if numero % 2 == 0:\n",
        "        pares.append(numero)\n",
        "\n",
        "print(\"Lista original:\", numeros)\n",
        "print(\"Números pares:\", pares)"
      ],
      "metadata": {
        "id": "htPgEKYxppIz"
      },
      "execution_count": null,
      "outputs": []
    },
    {
      "cell_type": "markdown",
      "source": [
        "10) Contador de palavras em uma frase\n",
        "\n",
        "Peça ao usuário uma frase, divida em palavras (split()) e use um dicionário para contar quantas vezes cada palavra aparece."
      ],
      "metadata": {
        "id": "9pzoi0GxlcO8"
      }
    },
    {
      "cell_type": "code",
      "source": [
        "print('-'*60,\"Atvidade 10\",60*'-')\n",
        "\n",
        "frase = input(\"Digite uma frase: \")\n",
        "palavras = frase.split()\n",
        "contador = {}\n",
        "\n",
        "for palavra in palavras:\n",
        "    if palavra in contador:\n",
        "        contador[palavra] += 1\n",
        "    else:\n",
        "        contador[palavra] = 1\n",
        "\n",
        "print(\"Contagem de palavras:\")\n",
        "for palavra, quantidade in contador.items():\n",
        "    print(f\"'{palavra}': {quantidade} vez(es)\")"
      ],
      "metadata": {
        "id": "2U7EfQwTUR_Z"
      },
      "execution_count": null,
      "outputs": []
    }
  ]
}