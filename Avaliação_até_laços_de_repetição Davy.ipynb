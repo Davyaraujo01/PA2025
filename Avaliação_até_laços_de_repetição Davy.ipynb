{
 "cells": [
  {
   "cell_type": "code",
   "execution_count": null,
   "metadata": {},
   "outputs": [],
   "source": [
    "*Digite o seu nome: Davy de Araújo Silva*"
   ]
  },
  {
   "cell_type": "markdown",
   "metadata": {
    "id": "2Wtw01VyHzBQ"
   },
   "source": [
    "1)Crie um programa em python que imprima números pares\n",
    "\n",
    "a) Pedir o usuário para digitar uma lista com mínimo 10 números\n",
    "\n",
    "b) Criar uma nova somente com numeros pares\n",
    "\n",
    "c) Imprimir números pares"
   ]
  },
  {
   "cell_type": "code",
   "execution_count": 17,
   "metadata": {},
   "outputs": [
    {
     "ename": "SyntaxError",
     "evalue": "unterminated string literal (detected at line 8) (1311365845.py, line 8)",
     "output_type": "error",
     "traceback": [
      "\u001b[1;36m  Cell \u001b[1;32mIn[17], line 8\u001b[1;36m\u001b[0m\n\u001b[1;33m    print(f'Pares:{pares})\u001b[0m\n\u001b[1;37m          ^\u001b[0m\n\u001b[1;31mSyntaxError\u001b[0m\u001b[1;31m:\u001b[0m unterminated string literal (detected at line 8)\n"
     ]
    }
   ],
   "source": [
    "num=[] \n",
    "par=[] \n",
    "for i in range(10):\n",
    "   num.append(int(input('Digite um número:')))\n",
    "for i in num: \n",
    "   if(i%2==0):\n",
    "        pares.append(i)\n",
    "print(f'Pares:{pares})"
   ]
  },
  {
   "cell_type": "markdown",
   "metadata": {
    "id": "bBYPSr8JHpUA"
   },
   "source": [
    "2)Crie um programa que conte quantas vezes cada palavra aparece em uma frase.\n",
    "\n",
    "Pedir ao usuário para digitar uma frase. Imprimir a palavra e quantas vezes ela aparece"
   ]
  },
  {
   "cell_type": "code",
   "execution_count": 7,
   "metadata": {
    "id": "dQLlv-lPKPT4"
   },
   "outputs": [
    {
     "name": "stdout",
     "output_type": "stream",
     "text": [
      "------------------------------------------------------------ Ativivdade 2 ------------------------------------------------------------\n"
     ]
    },
    {
     "name": "stdin",
     "output_type": "stream",
     "text": [
      "Digite uma frase:  Sei la\n"
     ]
    },
    {
     "name": "stdout",
     "output_type": "stream",
     "text": [
      "{'sei': 1, 'la': 1}\n"
     ]
    }
   ],
   "source": [
    "print('-'*60, 'Ativivdade 2' ,60*'-')\n",
    "frase=str(input('Digite uma frase:')).lower().split()\n",
    "\n",
    "dic={}\n",
    "\n",
    "for i in frase:\n",
    "    dic[i]=0\n",
    "for i in frase:\n",
    "    dic[i]+=1\n",
    "\n",
    "print(dic)\n"
   ]
  },
  {
   "cell_type": "markdown",
   "metadata": {
    "id": "bbWz0aL2HjP3"
   },
   "source": [
    "3)Crie um programa em Python para avaliar um desfile de candidatas. O programa deve:\n",
    "\n",
    "a) Perguntar quantas candidatas vão participar.\n",
    "\n",
    "b) Perguntar o nome de cada candidata.\n",
    "\n",
    "c) Para cada candidata, receber 3 notas (uma de cada jurado).\n",
    "\n",
    "d) Somar as notas e guardar o total em um dicionário, onde a chave é o nome da candidata e o valor é a soma das notas.\n",
    "\n",
    "Mostrar ao final:\n",
    "\n",
    "a) A pontuação total de cada candidata.\n",
    "\n",
    "b) O nome da vencedora (a que tiver a maior pontuação)."
   ]
  },
  {
   "cell_type": "code",
   "execution_count": 8,
   "metadata": {
    "id": "wrhGujbvHebJ"
   },
   "outputs": [
    {
     "name": "stdout",
     "output_type": "stream",
     "text": [
      "------------------------------------------------------------ Ativivdade 2 ------------------------------------------------------------\n"
     ]
    },
    {
     "name": "stdin",
     "output_type": "stream",
     "text": [
      "Digite quantas candidatas irão participar:  2\n",
      "Me diga o nome da 1º candidata:  Sei la, Sei la\n",
      "Me diga o nome da 2º candidata:  Sei la\n"
     ]
    },
    {
     "name": "stdout",
     "output_type": "stream",
     "text": [
      "\n",
      " -------------------- NOTAS! --------------------\n",
      "Sei la, Sei la:13\n",
      "Sei la:19\n",
      "{'Sei la, Sei la': 13, 'Sei la': 19}\n",
      "\n",
      " -------------------- Aguardando os jurados... --------------------\n",
      "A candidata vencedora é...\n",
      "['Sei la', 19]\n"
     ]
    }
   ],
   "source": [
    "print('-'*60, 'Ativivdade 2' ,60*'-')\n",
    "\n",
    "import random\n",
    "from time import sleep\n",
    "\n",
    "notas=[1, 2, 3, 4, 5, 6, 7, 8, 9, 10]\n",
    "qtd=int(input('Digite quantas candidatas irão participar: '))\n",
    "cadidatas={}\n",
    "maiornt=['', 0]\n",
    "\n",
    "jurados=['Davy', 'Alex', 'Flavio']\n",
    "\n",
    "for i in range(qtd):\n",
    "    nota=0\n",
    "    for n in range(len(jurados)):\n",
    "        nota+=random.choice(notas)\n",
    "    cadidatas[str(input(f'Me diga o nome da {i+1}º candidata: '))]=nota\n",
    "print('\\n', '-'*20, 'NOTAS!', '-'*20)\n",
    "for nome, nota in cadidatas.items():\n",
    "    print(f'{nome}:{nota}')\n",
    "    if(nota>maiornt[1]):\n",
    "        maiornt[0]=nome\n",
    "        maiornt[1]=nota\n",
    "print(cadidatas)\n",
    "\n",
    "print('\\n', '-'*20, 'Aguardando os jurados...', '-'*20)\n",
    "sleep(2)\n",
    "print('A candidata vencedora é...')\n",
    "sleep(1)\n",
    "print(maiornt)"
   ]
  }
 ],
 "metadata": {
  "colab": {
   "provenance": []
  },
  "kernelspec": {
   "display_name": "Python 3 (ipykernel)",
   "language": "python",
   "name": "python3"
  },
  "language_info": {
   "codemirror_mode": {
    "name": "ipython",
    "version": 3
   },
   "file_extension": ".py",
   "mimetype": "text/x-python",
   "name": "python",
   "nbconvert_exporter": "python",
   "pygments_lexer": "ipython3",
   "version": "3.11.4"
  }
 },
 "nbformat": 4,
 "nbformat_minor": 4
}
