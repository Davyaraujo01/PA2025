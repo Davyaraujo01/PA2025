{
  "nbformat": 4,
  "nbformat_minor": 0,
  "metadata": {
    "colab": {
      "provenance": [],
      "authorship_tag": "ABX9TyOva+Rlss2goqjVBEurar9Z",
      "include_colab_link": true
    },
    "kernelspec": {
      "name": "python3",
      "display_name": "Python 3"
    },
    "language_info": {
      "name": "python"
    }
  },
  "cells": [
    {
      "cell_type": "markdown",
      "metadata": {
        "id": "view-in-github",
        "colab_type": "text"
      },
      "source": [
        "<a href=\"https://colab.research.google.com/github/Davyaraujo01/PA2025/blob/main/Aula_de_Operadores.ipynb\" target=\"_parent\"><img src=\"https://colab.research.google.com/assets/colab-badge.svg\" alt=\"Open In Colab\"/></a>"
      ]
    },
    {
      "cell_type": "code",
      "execution_count": null,
      "metadata": {
        "id": "nF0Yq0WieHjD"
      },
      "outputs": [],
      "source": []
    },
    {
      "cell_type": "markdown",
      "source": [
        "#MATEMÁTICA\n"
      ],
      "metadata": {
        "id": "UFWHw3xaiJs-"
      }
    },
    {
      "cell_type": "markdown",
      "source": [
        "##SOMA"
      ],
      "metadata": {
        "id": "MH_yOg4tigUg"
      }
    },
    {
      "cell_type": "code",
      "source": [
        "print(2+5)"
      ],
      "metadata": {
        "colab": {
          "base_uri": "https://localhost:8080/"
        },
        "id": "ele89LoQildn",
        "outputId": "8cf43c13-1207-47b4-e766-f00d52278122"
      },
      "execution_count": null,
      "outputs": [
        {
          "output_type": "stream",
          "name": "stdout",
          "text": [
            "7\n"
          ]
        }
      ]
    },
    {
      "cell_type": "markdown",
      "source": [
        "##Subtração"
      ],
      "metadata": {
        "id": "_c6qW5yQjzC3"
      }
    },
    {
      "cell_type": "code",
      "source": [
        "print(350-43)"
      ],
      "metadata": {
        "colab": {
          "base_uri": "https://localhost:8080/"
        },
        "id": "W6qLxY2ckAY9",
        "outputId": "9f382dbf-77a0-4e90-a3ca-0b54aee4e126"
      },
      "execution_count": null,
      "outputs": [
        {
          "output_type": "stream",
          "name": "stdout",
          "text": [
            "307\n"
          ]
        }
      ]
    },
    {
      "cell_type": "markdown",
      "source": [
        "##Multiplicação"
      ],
      "metadata": {
        "id": "OvV-WJwIkQr-"
      }
    },
    {
      "cell_type": "code",
      "source": [
        "print(56*34)"
      ],
      "metadata": {
        "colab": {
          "base_uri": "https://localhost:8080/"
        },
        "id": "9JPiqx8gkktF",
        "outputId": "dab31298-6e7b-4891-c312-ea03d4073a9a"
      },
      "execution_count": null,
      "outputs": [
        {
          "output_type": "stream",
          "name": "stdout",
          "text": [
            "1904\n"
          ]
        }
      ]
    },
    {
      "cell_type": "markdown",
      "source": [
        "##Divisão"
      ],
      "metadata": {
        "id": "VK4P310Hl1ag"
      }
    },
    {
      "cell_type": "code",
      "source": [
        "print(8|3)"
      ],
      "metadata": {
        "colab": {
          "base_uri": "https://localhost:8080/"
        },
        "id": "rxqhRXKpl4oQ",
        "outputId": "fee6c345-5ac5-4cc3-cea9-c845e7c465bd"
      },
      "execution_count": null,
      "outputs": [
        {
          "output_type": "stream",
          "name": "stdout",
          "text": [
            "11\n"
          ]
        }
      ]
    },
    {
      "cell_type": "markdown",
      "source": [
        "##Expoente"
      ],
      "metadata": {
        "id": "ahMFqzhsmNOV"
      }
    },
    {
      "cell_type": "code",
      "source": [
        "print(7**4)"
      ],
      "metadata": {
        "colab": {
          "base_uri": "https://localhost:8080/"
        },
        "id": "udkJfDQwmUyH",
        "outputId": "998f6606-bad4-423e-a34c-a205bf76e10c"
      },
      "execution_count": null,
      "outputs": [
        {
          "output_type": "stream",
          "name": "stdout",
          "text": [
            "2401\n"
          ]
        }
      ]
    },
    {
      "cell_type": "markdown",
      "source": [
        "##MAIOR, IGUAL, MAIOR OU IGUAL, MENOR OU IGUAL"
      ],
      "metadata": {
        "id": "__hdPoi9nBEV"
      }
    },
    {
      "cell_type": "code",
      "source": [
        "#False maior\n",
        "print(3>5)\n",
        "#True maior\n",
        "print(5>3)\n",
        "\n",
        "#False menor\n",
        "print(5<3)\n",
        "#True menor\n",
        "print(3<5)\n",
        "\n",
        "#False igual\n",
        "print(3==5)\n",
        "#True igual\n",
        "print(3==3)\n",
        "\n",
        "#False maior ou igual maior\n",
        "print(5>=6)\n",
        "#True maior ou igual\n",
        "print(5>=3)\n",
        "#True maior ou igual 2\n",
        "print(5>=5)\n",
        "\n",
        "#False menor ou igual maior\n",
        "print(5<=4)\n",
        "#True menor ou igual\n",
        "print(5<=7)\n",
        "#True menor ou igual 2\n",
        "print(5<=5)\n"
      ],
      "metadata": {
        "id": "_HzG7iMAn6fZ"
      },
      "execution_count": null,
      "outputs": []
    },
    {
      "cell_type": "markdown",
      "source": [
        "##Variaveis"
      ],
      "metadata": {
        "id": "GAcrODQ9o7VG"
      }
    },
    {
      "cell_type": "code",
      "source": [
        "nome=\"Davy\"\n",
        "sobrenome=\"Araujo\"\n",
        "print(nome+\" \"+sobrenome)"
      ],
      "metadata": {
        "id": "2EdguNJLwFcw"
      },
      "execution_count": null,
      "outputs": []
    },
    {
      "cell_type": "code",
      "source": [
        "nome1=str(input(\"Coloque seu nome aqui: \"))\n",
        "sobrenome1=str(input(\"Coloque seu sobrenome aqui: \"))"
      ],
      "metadata": {
        "id": "xtEJVyqAxwNs"
      },
      "execution_count": null,
      "outputs": []
    },
    {
      "cell_type": "code",
      "source": [
        "#Lado do quadrado\n",
        "lado=int(input(\"O lado é igual a: \"))\n",
        "#Calculo da altura vezes lado\n",
        "area=lado*lado\n",
        "#Mostrando resultado\n",
        "print('A area do objeto em questão é ', area)"
      ],
      "metadata": {
        "id": "hdFWSFNX0hHw"
      },
      "execution_count": null,
      "outputs": []
    }
  ]
}