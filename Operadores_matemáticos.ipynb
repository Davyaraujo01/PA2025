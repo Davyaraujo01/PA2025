{
  "nbformat": 4,
  "nbformat_minor": 0,
  "metadata": {
    "colab": {
      "provenance": [],
      "authorship_tag": "ABX9TyPfg9JLtXs4mZOk7MoC1AXV",
      "include_colab_link": true
    },
    "kernelspec": {
      "name": "python3",
      "display_name": "Python 3"
    },
    "language_info": {
      "name": "python"
    }
  },
  "cells": [
    {
      "cell_type": "markdown",
      "metadata": {
        "id": "view-in-github",
        "colab_type": "text"
      },
      "source": [
        "<a href=\"https://colab.research.google.com/github/Davyaraujo01/PA2025/blob/main/Operadores_matem%C3%A1ticos.ipynb\" target=\"_parent\"><img src=\"https://colab.research.google.com/assets/colab-badge.svg\" alt=\"Open In Colab\"/></a>"
      ]
    },
    {
      "cell_type": "markdown",
      "source": [
        "#Calculando os dados dos alunos"
      ],
      "metadata": {
        "id": "urfI8VK7mQ38"
      }
    },
    {
      "cell_type": "markdown",
      "source": [
        "##Pegando os dados dos alunos"
      ],
      "metadata": {
        "id": "6CRAB7qnmkC0"
      }
    },
    {
      "cell_type": "code",
      "source": [
        "p1=float(input('Quanto o aluno tirou na prova 1: '))\n",
        "p2=float(input('Quanto o aluno tirou na prova 2: '))"
      ],
      "metadata": {
        "colab": {
          "base_uri": "https://localhost:8080/"
        },
        "id": "yLviub1Lmx6H",
        "outputId": "b4a27dd4-d041-4c66-8782-2ded699cbf85"
      },
      "execution_count": 1,
      "outputs": [
        {
          "name": "stdout",
          "output_type": "stream",
          "text": [
            "Quanto o aluno tirou na prova 1: 9\n",
            "Quanto o aluno tirou na prova 2: 6\n"
          ]
        }
      ]
    },
    {
      "cell_type": "markdown",
      "source": [
        "#Processamento"
      ],
      "metadata": {
        "id": "eujVlBdRndIl"
      }
    },
    {
      "cell_type": "code",
      "source": [
        "media=(p1+p2)/2"
      ],
      "metadata": {
        "id": "RL8DWU5gnGTi"
      },
      "execution_count": 15,
      "outputs": []
    },
    {
      "cell_type": "markdown",
      "source": [
        "#Saída"
      ],
      "metadata": {
        "id": "Udn-RHOPnjrH"
      }
    },
    {
      "cell_type": "code",
      "source": [
        "print(media)"
      ],
      "metadata": {
        "colab": {
          "base_uri": "https://localhost:8080/"
        },
        "id": "jslGLWaRnnxN",
        "outputId": "2163335c-b6a5-4415-e2e4-4d6731d390f7"
      },
      "execution_count": 16,
      "outputs": [
        {
          "output_type": "stream",
          "name": "stdout",
          "text": [
            "7.5\n"
          ]
        }
      ]
    },
    {
      "cell_type": "markdown",
      "source": [
        "#Exercícios"
      ],
      "metadata": {
        "id": "xD0n4pCBoXxf"
      }
    },
    {
      "cell_type": "code",
      "source": [
        "#Valor da peça\n",
        "valor = int(input(\" Quanta o valor da peça: \"))\n",
        "qtde= int(input(\" Quanta peças você possui \"))\n",
        "\n",
        "#Processamento\n",
        "vt=valor*qtde\n",
        "\n",
        "#Mostrando o valor total\n",
        "print(f\"Valor total é de {vt}\")"
      ],
      "metadata": {
        "colab": {
          "base_uri": "https://localhost:8080/"
        },
        "id": "8lJJrotjodZv",
        "outputId": "d34ae5c4-aa30-45f6-8a45-9ff24e642474"
      },
      "execution_count": 19,
      "outputs": [
        {
          "output_type": "stream",
          "name": "stdout",
          "text": [
            " Quanta o valor da peça: 0\n",
            " Quanta peças você possui 9\n",
            "Valor total é de0\n"
          ]
        }
      ]
    },
    {
      "cell_type": "markdown",
      "source": [
        "#Celsius para Fahrenheit"
      ],
      "metadata": {
        "id": "aJpGBXyp4nVQ"
      }
    },
    {
      "cell_type": "code",
      "source": [
        "#Coletando dados\n",
        "c=int(input(\"Celsius: \"))\n",
        "#Calculo\n",
        "fa=(c*1.8)+32\n",
        "#Saída\n",
        "print(f'Fahrenheit: {fa}')\n",
        "print('Fahrenheit:', fa)"
      ],
      "metadata": {
        "id": "hgG6HcCt4_28"
      },
      "execution_count": null,
      "outputs": []
    },
    {
      "cell_type": "markdown",
      "source": [
        "#KM em milha\n"
      ],
      "metadata": {
        "id": "IzPz3zMj3uSI"
      }
    },
    {
      "cell_type": "code",
      "source": [
        "#Coletando dados\n",
        "km=int(input(\"KM: \"))\n",
        "milha=0.62137\n",
        "\n",
        "#Calculo\n",
        "#Round é uma função usada para arredondar número decimal\n",
        "milhas=round(km*milha, 6)\n",
        "\n",
        "print(f\"{km} KM deu {milhas} milhas\")"
      ],
      "metadata": {
        "id": "GIR3YfD030rq"
      },
      "execution_count": null,
      "outputs": []
    }
  ]
}