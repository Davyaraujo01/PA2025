{
  "nbformat": 4,
  "nbformat_minor": 0,
  "metadata": {
    "colab": {
      "provenance": [],
      "authorship_tag": "ABX9TyNFHYgp81Wg58qWX+vYE01d",
      "include_colab_link": true
    },
    "kernelspec": {
      "name": "python3",
      "display_name": "Python 3"
    },
    "language_info": {
      "name": "python"
    }
  },
  "cells": [
    {
      "cell_type": "markdown",
      "metadata": {
        "id": "view-in-github",
        "colab_type": "text"
      },
      "source": [
        "<a href=\"https://colab.research.google.com/github/Davyaraujo01/PA2025/blob/main/Untitled0.ipynb\" target=\"_parent\"><img src=\"https://colab.research.google.com/assets/colab-badge.svg\" alt=\"Open In Colab\"/></a>"
      ]
    },
    {
      "cell_type": "markdown",
      "source": [
        "#Davy trabalho\n"
      ],
      "metadata": {
        "id": "jiGPK6FOWuyb"
      }
    },
    {
      "cell_type": "code",
      "execution_count": null,
      "metadata": {
        "colab": {
          "base_uri": "https://localhost:8080/"
        },
        "id": "hHlZrJHQVNuW",
        "outputId": "7ece4622-e7f5-4719-b242-b8e2e29e54a2"
      },
      "outputs": [
        {
          "output_type": "stream",
          "name": "stdout",
          "text": [
            "Hello brother\n"
          ]
        }
      ],
      "source": [
        "aula=\"Hello brother\"\n",
        "print(aula)"
      ]
    },
    {
      "cell_type": "markdown",
      "source": [],
      "metadata": {
        "id": "BorGTvJaWuIJ"
      }
    },
    {
      "cell_type": "code",
      "source": [
        "#Entrada\n",
        "lado=8\n",
        "#Calculo\n",
        "calculo= lado * lado\n",
        "#Saída\n",
        "print('calculo é igual:', calculo)\n"
      ],
      "metadata": {
        "colab": {
          "base_uri": "https://localhost:8080/"
        },
        "id": "iLOP3nBfWWHy",
        "outputId": "e1c753f6-9404-4d69-a295-471a77803888"
      },
      "execution_count": null,
      "outputs": [
        {
          "output_type": "stream",
          "name": "stdout",
          "text": [
            "calculo é igual: 64\n"
          ]
        }
      ]
    }
  ]
}