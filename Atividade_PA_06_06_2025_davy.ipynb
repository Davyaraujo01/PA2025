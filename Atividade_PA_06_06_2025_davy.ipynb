{
  "nbformat": 4,
  "nbformat_minor": 0,
  "metadata": {
    "colab": {
      "provenance": [],
      "authorship_tag": "ABX9TyOeYfSZQZfM2PdCX2kHNaN0",
      "include_colab_link": true
    },
    "kernelspec": {
      "name": "python3",
      "display_name": "Python 3"
    },
    "language_info": {
      "name": "python"
    }
  },
  "cells": [
    {
      "cell_type": "markdown",
      "metadata": {
        "id": "view-in-github",
        "colab_type": "text"
      },
      "source": [
        "<a href=\"https://colab.research.google.com/github/Davyaraujo01/PA2025/blob/main/Atividade_PA_06_06_2025_davy.ipynb\" target=\"_parent\"><img src=\"https://colab.research.google.com/assets/colab-badge.svg\" alt=\"Open In Colab\"/></a>"
      ]
    },
    {
      "cell_type": "code",
      "execution_count": null,
      "metadata": {
        "colab": {
          "base_uri": "https://localhost:8080/"
        },
        "id": "zMKXf9GAaCU0",
        "outputId": "28ac3dea-19f7-4209-c2f0-76f8f8497ea8"
      },
      "outputs": [
        {
          "output_type": "stream",
          "name": "stdout",
          "text": [
            "-------------------------------------------------------------------------------- NÚMERO POSITIVO OU NEGATIVO --------------------------------------------------------------------------------\n",
            "Digite um número:-9\n",
            "É menor\n"
          ]
        }
      ],
      "source": [
        "print(\"-\"*80, \"NÚMERO POSITIVO OU NEGATIVO\" ,\"-\"*80)\n",
        "\n",
        "num = int(input(\"Digite um número:\"))\n",
        "\n",
        "if(num>0):\n",
        "  print(\"É maior\")\n",
        "elif(num<0):\n",
        "  print(\"É menor\")\n",
        "else:\n",
        "  print(\"É 0 broh!\")"
      ]
    },
    {
      "cell_type": "markdown",
      "source": [
        "#QUESTÃO 2\n"
      ],
      "metadata": {
        "id": "Gc_c_72me3oB"
      }
    },
    {
      "cell_type": "code",
      "source": [
        "print(\"-\"*80, \"PAR OU ÍMPAR\" ,\"-\"*80)\n",
        "\n",
        "num = int(input(\"Digite um número:\"))\n",
        "\n",
        "if num % 2 == 0:\n",
        "  print(\"número par\")\n",
        "else:\n",
        "  print(\"número ímpar\")"
      ],
      "metadata": {
        "colab": {
          "base_uri": "https://localhost:8080/"
        },
        "id": "NFcHE8PzfDve",
        "outputId": "1586e0c0-597f-4950-8db6-00b3e64c9d57"
      },
      "execution_count": null,
      "outputs": [
        {
          "output_type": "stream",
          "name": "stdout",
          "text": [
            "-------------------------------------------------------------------------------- PAR OU ÍMPAR --------------------------------------------------------------------------------\n",
            "Digite um número:4\n",
            "número par\n"
          ]
        }
      ]
    },
    {
      "cell_type": "markdown",
      "source": [
        "QUESTÃO 3"
      ],
      "metadata": {
        "id": "181EHwZbiVqq"
      }
    },
    {
      "cell_type": "code",
      "source": [
        "print(\"-\"*50, \"VERIFICAÇÃO MAIOR DE IDADE\", \"-\"*50, \"\\n\\n\")\n",
        "\n",
        "num=int(input(\"diga-me sua idade: \"))\n",
        "\n",
        "if(num>18):\n",
        "  print(\"Maior de idade\")\n",
        "elif(num<18 and num>0):\n",
        "  print(\"Menor de idade\")\n",
        "else:\n",
        "  print(\"oloko\")\n"
      ],
      "metadata": {
        "id": "KNkk49t0iZ4m"
      },
      "execution_count": null,
      "outputs": []
    },
    {
      "cell_type": "markdown",
      "source": [
        "Questão 4"
      ],
      "metadata": {
        "id": "yXrCbeK3i9ke"
      }
    },
    {
      "cell_type": "code",
      "source": [
        "print(\"-\"*50, \"SENHA CORRETA\", \"-\"*50, \"\\n\\n\")\n",
        "\n",
        "senha=1234\n",
        "num=int(input(\"digite uma senha aí vai: \"))\n",
        "\n",
        "if(num==senha):\n",
        "  print(\"Senha correta!\")\n",
        "else:\n",
        "  print(\"Senha incorreta!\")\n"
      ],
      "metadata": {
        "id": "C_8rpkXwi-3Y"
      },
      "execution_count": null,
      "outputs": []
    },
    {
      "cell_type": "markdown",
      "source": [
        "QUESTÃO 5"
      ],
      "metadata": {
        "id": "I0QgWknVjCJC"
      }
    },
    {
      "cell_type": "code",
      "source": [
        "print(\"-\"*50, \"NOTA DE APROVAÇÃO\", \"-\"*50, \"\\n\\n\")\n",
        "\n",
        "nota=float(input(\"Digite sua nota aí: \"))\n",
        "\n",
        "if(nota>=6):\n",
        "  print(\"Passou de ano!\")\n",
        "else:\n",
        "  print(\"Você reprovou! Sua falha!\")"
      ],
      "metadata": {
        "id": "buZqlEG-jEmL"
      },
      "execution_count": null,
      "outputs": []
    },
    {
      "cell_type": "markdown",
      "source": [
        "QUESTÃO 6"
      ],
      "metadata": {
        "id": "8pM37N0BjJu1"
      }
    },
    {
      "cell_type": "code",
      "source": [
        "print(\"-\"*50, \"MULTIPLO DE 3 OU 5\", \"-\"*50, \"\\n\\n\")\n",
        "\n",
        "num=int(input(\"Me digite um número aí vai: \"))\n",
        "\n",
        "if(((num/3)==int(num/3))):\n",
        "  print(\"Multiplo de 3\")\n",
        "elif(((num/5)==int(num/5))):\n",
        "  print(\"Multiplo de 5\")\n",
        "else:\n",
        "  print(\"Não é multiplo de nada\")"
      ],
      "metadata": {
        "id": "9BEi8Y46jN6Y"
      },
      "execution_count": null,
      "outputs": []
    },
    {
      "cell_type": "markdown",
      "source": [
        "QUESTÃO 7"
      ],
      "metadata": {
        "id": "nJ5WLJ6VjR28"
      }
    },
    {
      "cell_type": "code",
      "source": [
        "print(\"-\"*50, \"NUMERO DENTRO DO INTERVALO\", \"-\"*50, \"\\n\\n\")\n",
        "\n",
        "num=int(input(\"Me diga um número e vamos ver se ele está dentro do intervalo: \"))\n",
        "\n",
        "if(num>=10 and num<=20):\n",
        "  print(\"Está dentro do intervalo!\")\n",
        "else:\n",
        "  print(\"Não está dentro do intervalo!\")"
      ],
      "metadata": {
        "id": "aZH9uIRdjVVS"
      },
      "execution_count": null,
      "outputs": []
    },
    {
      "cell_type": "markdown",
      "source": [
        "#QUESTÃO 8"
      ],
      "metadata": {
        "id": "WIPThSPRjY9W"
      }
    },
    {
      "cell_type": "code",
      "source": [
        "print(\"-\"*50, \"CLASSIFICAÇÃO DE UM TRIANGULO\", \"-\"*50, \"\\n\\n\")\n",
        "\n",
        "l1=int(input(\"Lado 1: \"))\n",
        "l2=int(input(\"Lado 2: \"))\n",
        "l3=int(input(\"Lado 3: \"))\n",
        "\n",
        "isequilatero=(l1==l2==l3)\n",
        "isisoceles=(l1==l2) or (l2==l3) or (l1==l3)\n",
        "isescaleno=(l1!=l2!=l3)\n",
        "\n",
        "if(isequilatero):\n",
        "  print(\"Seu triangulo é um equilatero\")\n",
        "elif(isisoceles):\n",
        "  print(\"Seu triangulo é um isóceles\")\n",
        "elif(isescaleno):\n",
        "  print(\"Seu triangulo é um escaleno\")"
      ],
      "metadata": {
        "colab": {
          "base_uri": "https://localhost:8080/"
        },
        "id": "qfT61VH8jhQG",
        "outputId": "09a689bb-c9a1-4b72-c85e-8d3dcfe6fe15"
      },
      "execution_count": null,
      "outputs": [
        {
          "output_type": "stream",
          "name": "stdout",
          "text": [
            "-------------------------------------------------- CLASSIFICAÇÃO DE UM TRIANGULO -------------------------------------------------- \n",
            "\n",
            "\n",
            "Lado 1: 4\n",
            "Lado 2: 4\n",
            "Lado 3: 4\n",
            "Seu triangulo é um equilatero\n"
          ]
        }
      ]
    }
  ]
}