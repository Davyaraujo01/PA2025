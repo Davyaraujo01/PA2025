{
  "nbformat": 4,
  "nbformat_minor": 0,
  "metadata": {
    "colab": {
      "provenance": [],
      "authorship_tag": "ABX9TyPTCcN27/09kftCKkltjaBW",
      "include_colab_link": true
    },
    "kernelspec": {
      "name": "python3",
      "display_name": "Python 3"
    },
    "language_info": {
      "name": "python"
    }
  },
  "cells": [
    {
      "cell_type": "markdown",
      "metadata": {
        "id": "view-in-github",
        "colab_type": "text"
      },
      "source": [
        "<a href=\"https://colab.research.google.com/github/Davyaraujo01/PA2025/blob/main/Atividade_PA_2025.ipynb\" target=\"_parent\"><img src=\"https://colab.research.google.com/assets/colab-badge.svg\" alt=\"Open In Colab\"/></a>"
      ]
    },
    {
      "cell_type": "markdown",
      "source": [],
      "metadata": {
        "id": "FDGadxs-2_ea"
      }
    },
    {
      "cell_type": "markdown",
      "source": [
        "#Ativdade aula PA 25/04"
      ],
      "metadata": {
        "id": "FAAKkPgw3CIR"
      }
    },
    {
      "cell_type": "markdown",
      "source": [
        "##1."
      ],
      "metadata": {
        "id": "qUT2QCU43-K5"
      }
    },
    {
      "cell_type": "code",
      "source": [
        "print('-'*45, \"COMEÇANDO\", \"-\"*45)\n",
        "#Entrada\n",
        "ner=float(input(\"me fala um numero:\"))\n",
        "#Processameto\n",
        "impar_par=(int(ner/2) == (ner/2))\n",
        "#Saida\n",
        "print(impar_par)"
      ],
      "metadata": {
        "colab": {
          "base_uri": "https://localhost:8080/"
        },
        "id": "LhGuk1D137_p",
        "outputId": "1c59b169-6732-4922-c7a0-36f27bb57a9d"
      },
      "execution_count": 9,
      "outputs": [
        {
          "output_type": "stream",
          "name": "stdout",
          "text": [
            "--------------------------------------------- COMEÇANDO ---------------------------------------------\n",
            "me fala um numero:5\n",
            "False\n"
          ]
        }
      ]
    },
    {
      "cell_type": "markdown",
      "source": [
        "#2."
      ],
      "metadata": {
        "id": "byqsxgVkAzSs"
      }
    },
    {
      "cell_type": "code",
      "source": [
        "print('-'*45, \"TRIÂNGULOS\", \"-\"*45)\n",
        "#Entrada\n",
        "l1=float(input(\"Digite o primeiro lado de um triangulo:\"))\n",
        "l2=float(input(\"Digite o segundo lado de um triangulo:\"))\n",
        "l3=float(input(\"Digite o terceiro lado de um triangulo:\"))\n",
        "#Processo\n",
        "triangulo=((l1+l2>l3) and (l1+l3>l2) and (l2+l3>l1))\n",
        "equilatero=(l1==l2==l3)\n",
        "escaleno=(l1!=l2!=l3)\n",
        "isosceles=(l1==l2 or l1==l3 or l2==l3)\n",
        "#Saida\n",
        "print('e um triangulo?', triangulo)\n",
        "print('e um equilatero?', equilatero)\n",
        "print('e um escaleno?', escaleno)\n",
        "print('e um isosceles?',isosceles)\n"
      ],
      "metadata": {
        "colab": {
          "base_uri": "https://localhost:8080/"
        },
        "id": "FX8kCBNcDFnE",
        "outputId": "97cfddb6-c563-4399-9209-f234e7e71470"
      },
      "execution_count": 8,
      "outputs": [
        {
          "output_type": "stream",
          "name": "stdout",
          "text": [
            "--------------------------------------------- TRIÂNGULOS ---------------------------------------------\n",
            "Digite o primeiro lado de um triangulo:2\n",
            "Digite o segundo lado de um triangulo:2\n",
            "Digite o terceiro lado de um triangulo:2\n",
            "e um triangulo? True\n",
            "e um equilatero? True\n",
            "e um escaleno? False\n",
            "e um isosceles? True\n"
          ]
        }
      ]
    },
    {
      "cell_type": "markdown",
      "source": [
        "#3."
      ],
      "metadata": {
        "id": "7O32nBIR6gxr"
      }
    },
    {
      "cell_type": "code",
      "source": [
        "from math import *\n",
        "print(\"-\"*45, \"TRIANGULOS\", \"-\"*45, \"\\n\")\n",
        "\n",
        "#Entrada\n",
        "peso=float(input(\"Me informe seu peso: \"))\n",
        "altura=float(input(\"Me informe sua altura: \"))\n",
        "\n",
        "#Processamento\n",
        "imc=(peso/altura**2)\n",
        "imc=round(imc, 1)\n",
        "\n",
        "#Saida\n",
        "print(f\"Seu imc é {imc}\")\n",
        "print(f\"Você está abaixo do peso? {imc<=18.5}\")\n",
        "print(f\"Você está normal de peso? {imc>=18.6 and imc<=24.9}\")\n",
        "print(f\"Você está acima do peso? {imc>=25 and imc<=29.9}\")\n",
        "print(f\"Você está obeso nivel 1? {imc>=30 and imc<=34.9}\")\n",
        "print(f\"Você está obeso nivel 2? {imc>=35 and imc<=39.9}\")\n",
        "print(f\"Você está obeso nivel 3? {imc>=40}\")"
      ],
      "metadata": {
        "colab": {
          "base_uri": "https://localhost:8080/"
        },
        "id": "Xn1fn6Rb6pnz",
        "outputId": "b296cf42-2b11-4de7-bf9d-91e64304d1ad"
      },
      "execution_count": 7,
      "outputs": [
        {
          "output_type": "stream",
          "name": "stdout",
          "text": [
            "--------------------------------------------- TRIANGULOS --------------------------------------------- \n",
            "\n",
            "Me informe seu peso: 100\n",
            "Me informe sua altura: 175\n",
            "Seu imc é 0.0\n",
            "Você está abaixo do peso? True\n",
            "Você está normal de peso? False\n",
            "Você está acima do peso? False\n",
            "Você está obeso nivel 1? False\n",
            "Você está obeso nivel 2? False\n",
            "Você está obeso nivel 3? False\n"
          ]
        }
      ]
    },
    {
      "cell_type": "markdown",
      "source": [
        "#4."
      ],
      "metadata": {
        "id": "dntW3g3QK-FG"
      }
    },
    {
      "cell_type": "code",
      "source": [
        "print(\"-\"*45, \"VOLÊI\", \"-\"*45, \"\\n\")\n",
        "#Entrada\n",
        "idade=float(input(\"Me diga sua idade: \"))\n",
        "altura=float(input(\"Me diga sua altura: \"))\n",
        "#Processamento\n",
        "\n",
        "#Saída\n",
        "print(f\"Você pode participar? {altura>1.75 and idade>18}\")"
      ],
      "metadata": {
        "colab": {
          "base_uri": "https://localhost:8080/"
        },
        "id": "CpNb_qwGJqPw",
        "outputId": "9c0d1672-10b3-46e7-a307-92dcd7f158f2"
      },
      "execution_count": 3,
      "outputs": [
        {
          "output_type": "stream",
          "name": "stdout",
          "text": [
            "--------------------------------------------- VOLÊI --------------------------------------------- \n",
            "\n",
            "Me diga sua idade: 5\n",
            "Me diga sua altura: 110\n",
            "Você pode participar? False\n"
          ]
        }
      ]
    }
  ]
}